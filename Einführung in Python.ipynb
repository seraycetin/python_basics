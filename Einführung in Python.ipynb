{
 "cells": [
  {
   "cell_type": "markdown",
   "metadata": {},
   "source": [
    "# Allgemein\n",
    "Python ist ein Open-Source-Software und wurde Ende 1980 von Guido van Rossum erfunden. die Programmiersprache beruht auf eine früheren Programmiersprache namens ABC.\n",
    "\n",
    "## Python Versionen\n",
    "Es gibt 2 Versionen von Python, nämlich Python 3.x und Python 2.x. Nicht jedes Python 2 in der Version 3 funktioniert bzw. mit diesem kompatibel ist. \n",
    "Nur noch bis 2020 soll Python 2 gewartet werden.\n",
    "\n",
    "## Entwicklungsziele\n",
    "* einfache, aber mächtige Programmiersprache\n",
    "* Code leicht verständlich\n",
    "* für Alltagsaufgaben zur Verfügung stehen und kurze Entwicklungszeiten fördern\n",
    "\n",
    "## Programmiersprache\n",
    "Python ist eine moderen Programmiersprache mit folgenden Eigenschaften:\n",
    "* Dynamische Typisierung: vor der Verwendung müssen Variablen nicht deklariert werden \n",
    "* Objektorientierung: Klassen, Objekte mit Mehoden und Attributen\n",
    "* leitsungsfähige Datentypen: int, float, string, list, tupel, dictionary, ..\n",
    "* automatische Speicherverwaltung: Verwaltung von Speicher für Objekte \n",
    "* Standardbibliothek: Biblioteken für Netzwerkzugriff, Unterstützung Internet-Protokolle\n",
    "* Erweiterbarkeit: Module können in C/C++ geschrieben werden\n",
    "* Portabilität: auf allen Betriebssystemen lauffähig\n",
    "* freie Verfügbarkeit: Open-Source\n",
    "* Performance\n",
    "\n",
    "## Erstes Programm"
   ]
  },
  {
   "cell_type": "code",
   "execution_count": 1,
   "metadata": {},
   "outputs": [
    {
     "name": "stdout",
     "output_type": "stream",
     "text": [
      "Hello World!\n"
     ]
    }
   ],
   "source": [
    "print(\"Hello World!\")"
   ]
  },
  {
   "cell_type": "markdown",
   "metadata": {},
   "source": [
    "# Code Intentation, Markdown & Basis of Jupyter\n",
    "## Code Intentation\n",
    "In Python ist die Struktur (Formatierung) des Programmaufbaus sehr wichtig, da hier wie in Java keine Semikolon verwendet werden müssen, um das Ende der Zeile zu kennzeichnen. Das beudeutet es müssen entsprechende Einrückungen gemacht werden. Solche Codeeinrückungen wären beipsielsweise bei if-Anweisungen, Schleifen oder Funktionen wichtig. Hier dazu ein Beispiel:"
   ]
  },
  {
   "cell_type": "code",
   "execution_count": null,
   "metadata": {},
   "outputs": [],
   "source": [
    "if Bedingung:\n",
    "    print('Bedingung ist erfüllt')\n",
    "else:\n",
    "    print('Bedingung ist nicht erfüllt')"
   ]
  },
  {
   "cell_type": "markdown",
   "metadata": {},
   "source": [
    "## Markdown\n",
    "Neben Code-Felder gibt es in Jupyter auch Markdown Felder. Diese sind im Prinzip nichts anderes als Textfelder. Diese Textfeld entsprechen Eins-zu-Eins den HTML-tags. "
   ]
  },
  {
   "cell_type": "markdown",
   "metadata": {},
   "source": [
    "Beispiel:<br>\n",
    "<b>dicker Text</b><br>\n",
    "<u>Text unterstrichen</u><br>\n",
    "<i>Text kursiv</i><br>\n",
    "<font color='red'>Farbiger Text</font> "
   ]
  },
  {
   "cell_type": "markdown",
   "metadata": {},
   "source": [
    "## Basis of Jupyter\n",
    "Das Jupyter Notebook ist ein leistungsfähiges Werkzeug für interaktive Entwicklung und Präsentation von Data Science-Projekten. Der darin integrierter Code und die Ausgabe sind in einem einzigen Dokument. Diese könne auch zugleich heir auch visualisiert werden, auch können mathematische Gleichungen und andere Elemente kombiniert werden."
   ]
  },
  {
   "cell_type": "markdown",
   "metadata": {},
   "source": [
    "# Variablen, Daten Typen\n",
    "Variablen sind eine Art Behälter, die bestimmte Werte bzw. Ergebnisse speichern. <br />\n",
    "Variable können durch andere Werte überschrieben bzw. neu gesetzte werden. Die Zuweisung der Variable wird mittel einem `=` durhgeführt, dieses Sysmbol darf nicht als das mathematische Gleichheitszeichen gesehen werden, sondern als Zuweisung. Hier einige Zuweisungen von Variablen und Berechnungen dieser:"
   ]
  },
  {
   "cell_type": "code",
   "execution_count": 2,
   "metadata": {},
   "outputs": [
    {
     "name": "stdout",
     "output_type": "stream",
     "text": [
      "3\n"
     ]
    }
   ],
   "source": [
    "a = 1\n",
    "b = 2\n",
    "c = a + b\n",
    "print(c)"
   ]
  },
  {
   "cell_type": "markdown",
   "metadata": {},
   "source": [
    "<br />Variablen können bspw. eine Zahl oder ein Text beinhalten. Das bedeutet, Variablen unterscheiden sich anhand ihrer Datentypen. Folgende Datentypen stehen uns zur Verfügung:\n",
    "#### Zahlen\n",
    "* `integer`: Ganzzahlen\n",
    "* lange Ganzzahl\n",
    "* Fließkommazahlen\n",
    "* komplexe Zahlen"
   ]
  },
  {
   "cell_type": "code",
   "execution_count": 3,
   "metadata": {},
   "outputs": [
    {
     "data": {
      "text/plain": [
       "14"
      ]
     },
     "execution_count": 3,
     "metadata": {},
     "output_type": "execute_result"
    }
   ],
   "source": [
    "x = 2    # integer\n",
    "x * 7"
   ]
  },
  {
   "cell_type": "code",
   "execution_count": 21,
   "metadata": {},
   "outputs": [
    {
     "data": {
      "text/plain": [
       "3.0"
      ]
     },
     "execution_count": 21,
     "metadata": {},
     "output_type": "execute_result"
    }
   ],
   "source": [
    "9.0/3    # float"
   ]
  },
  {
   "cell_type": "markdown",
   "metadata": {},
   "source": [
    "#### Boolean\n",
    "Boolean sind Subtypen von Integer. Sie können den Wert `True` (1) oder `False` (0) annehmen, je nachdem ob die Bedingung wahr der falsch ist."
   ]
  },
  {
   "cell_type": "code",
   "execution_count": 4,
   "metadata": {},
   "outputs": [
    {
     "data": {
      "text/plain": [
       "True"
      ]
     },
     "execution_count": 4,
     "metadata": {},
     "output_type": "execute_result"
    }
   ],
   "source": [
    "1 == 1    # True"
   ]
  },
  {
   "cell_type": "code",
   "execution_count": 2,
   "metadata": {},
   "outputs": [
    {
     "data": {
      "text/plain": [
       "False"
      ]
     },
     "execution_count": 2,
     "metadata": {},
     "output_type": "execute_result"
    }
   ],
   "source": [
    "1 > 10    # False"
   ]
  },
  {
   "cell_type": "markdown",
   "metadata": {},
   "source": [
    "#### Strings\n",
    "Ist eine Sequenz von einzelnen Zeichen. Das bedeutet im Pinzip das ein String nichts weiter als eine Art Liste ist."
   ]
  },
  {
   "cell_type": "code",
   "execution_count": 7,
   "metadata": {},
   "outputs": [
    {
     "data": {
      "text/plain": [
       "\"Hello, I'm Python!\""
      ]
     },
     "execution_count": 7,
     "metadata": {},
     "output_type": "execute_result"
    }
   ],
   "source": [
    "s = \"Hello, I'm \"\n",
    "s + \"Python!\""
   ]
  },
  {
   "cell_type": "markdown",
   "metadata": {},
   "source": [
    "<br><u>Indexing von Strings</u><br>\n",
    "Der Buchstabe P hat den Index 0, Y hat Index 1 usw. und der letzte Buchstabe N den index 5.<br />\n",
    "Indexing geht auch umgekehrt, von links nach rechts, da beginnen wir mit -1, also kann der Buchstabe N auch mit dem index -1 ausgegeben werden."
   ]
  },
  {
   "cell_type": "code",
   "execution_count": 33,
   "metadata": {},
   "outputs": [
    {
     "name": "stdout",
     "output_type": "stream",
     "text": [
      " 0 - P\n",
      " 1 - Y\n",
      " 3 - H\n",
      "-1 - N\n",
      "-3 - H\n"
     ]
    }
   ],
   "source": [
    "text = 'PYTHON'\n",
    "print(\" 0 - \" + text[0])\n",
    "print(\" 1 - \" + text[1])\n",
    "print(\" 3 - \" + text[3])\n",
    "print(\"-1 - \" + text[-1])\n",
    "print(\"-3 - \" + text[-3])"
   ]
  },
  {
   "cell_type": "markdown",
   "metadata": {},
   "source": [
    "<br><u>String - Slicing (teilen)</u><br />\n",
    "Den Intervall der Indexe eingeben, je nachdem welchen bestimmten Bereich des Strings man ausgeben möchte."
   ]
  },
  {
   "cell_type": "code",
   "execution_count": 35,
   "metadata": {},
   "outputs": [
    {
     "data": {
      "text/plain": [
       "'HON'"
      ]
     },
     "execution_count": 35,
     "metadata": {},
     "output_type": "execute_result"
    }
   ],
   "source": [
    "text[3:]   # gibt alle Zeichen ab dem 3. Zeichen aus"
   ]
  },
  {
   "cell_type": "markdown",
   "metadata": {},
   "source": [
    "### Wichtig!\n",
    "Beim Deklarieren wird der Datentyp in Python nicht angegeben, dies übernimmt Python automatisch. Mit der `type()`-Funktion können die Datentypen der Variablen ausgeben werden."
   ]
  },
  {
   "cell_type": "code",
   "execution_count": 20,
   "metadata": {},
   "outputs": [
    {
     "name": "stdout",
     "output_type": "stream",
     "text": [
      "<class 'int'>\n",
      "<class 'float'>\n",
      "<class 'str'>\n"
     ]
    }
   ],
   "source": [
    "print(type(1))\n",
    "print(type(2.5))\n",
    "print(type(\"hello\"))"
   ]
  },
  {
   "cell_type": "markdown",
   "metadata": {},
   "source": [
    "<br>Variablen in einen anderen Datentypen zu konvertieren, ist ebenfalls möglich und ganz simpel. In unserem Beispiel hier konvertieren wir einen String-Wert in ein Integer:"
   ]
  },
  {
   "cell_type": "code",
   "execution_count": 26,
   "metadata": {},
   "outputs": [
    {
     "name": "stdout",
     "output_type": "stream",
     "text": [
      "42\n",
      "<class 'str'>\n",
      "42\n",
      "<class 'int'>\n"
     ]
    }
   ],
   "source": [
    "a = \"42\"\n",
    "print(a)\n",
    "print(type(a))\n",
    "\n",
    "x = int(a)      # Konvertierung des String in Integer\n",
    "print(x)\n",
    "print(type(x))"
   ]
  },
  {
   "cell_type": "markdown",
   "metadata": {},
   "source": [
    "# Fließkommadarstellung\n",
    "\n",
    "Gleitkommazahlen (= Fließkommazahlen) können auf sehr viele Arten darstellen werden. Wichtig die Kommazahl muss mit einem \"Punkt\" und nicht mit einem \"Beistrich\" geschrieben. Fließkommazahlen haben den Datentypen `float` (floating point)."
   ]
  },
  {
   "cell_type": "code",
   "execution_count": 42,
   "metadata": {},
   "outputs": [],
   "source": [
    "a = 3.35678\n",
    "b = 2.           # 2.0\n",
    "c = .2           # 0.2\n",
    "d = 2e10         # 20000000000.0"
   ]
  },
  {
   "cell_type": "markdown",
   "metadata": {},
   "source": [
    "<br>Die Zahlen können mit `round()` gerundet werden. Optional kann die Anzahl der Nachkommastelle angegeben werden, z.B."
   ]
  },
  {
   "cell_type": "code",
   "execution_count": 40,
   "metadata": {},
   "outputs": [
    {
     "data": {
      "text/plain": [
       "3.36"
      ]
     },
     "execution_count": 40,
     "metadata": {},
     "output_type": "execute_result"
    }
   ],
   "source": [
    "round(a, 2)"
   ]
  },
  {
   "cell_type": "markdown",
   "metadata": {},
   "source": [
    "<br>Das Rechnen mit Kommazahlen ist mit Rundungsfehlern verbunden, was zu einigen Ungenauigkeiten führen kann. Aber für einfache Berechnungen, sollte die Genauigkeit der float-Rechnungen ausreichend genug sein."
   ]
  },
  {
   "cell_type": "markdown",
   "metadata": {},
   "source": [
    "# Logic & Control Flow\n",
    "## if-Anweisungen\n",
    "Für die `if`-Anweisungen sind keine geschwungenen Klammern nötig, wie in Java, C++ und anderen Programmiersprachen. Hier ist es lediglich wichtig, dass der Code, der in die if-Klausel gehört, unter der Anweisung dementsprechend eingerückt ist. Es ist möglich gleich nach der if-Anweisung mittels `elif` (else if) weitere Bedingungen zu überprüfen bzw. hinzuzufügen. Zum Schluss ist ein `else`-Zweig optional aber nicht verplichtend."
   ]
  },
  {
   "cell_type": "code",
   "execution_count": 32,
   "metadata": {},
   "outputs": [
    {
     "name": "stdout",
     "output_type": "stream",
     "text": [
      "Die 2. Bedingung ist True\n"
     ]
    }
   ],
   "source": [
    "if 1 > 2:\n",
    "    print(\"Die 1. Bedingung ist True\")\n",
    "elif 2 == 2 and 2 > 1:\n",
    "    print(\"Die 2. Bedingung ist True\")\n",
    "else:\n",
    "    print(\"Die Bedingung ist False\")"
   ]
  },
  {
   "cell_type": "markdown",
   "metadata": {},
   "source": [
    "# Schleifen\n",
    "Schleifen werden verwendet, wenn bestimmte Berechnungen iterativ (n-mal) durchgeführt werden müssen. Hier werden zwei Möglichkeiten gezeigt eine Schleife zu programmieren:\n",
    "\n",
    "## for-Schleife\n",
    "Die `for-Schleife` benötigt eine bestimmte `range`, damit das System weiß wir oft sie durchlaufen muss."
   ]
  },
  {
   "cell_type": "code",
   "execution_count": 1,
   "metadata": {},
   "outputs": [
    {
     "name": "stdout",
     "output_type": "stream",
     "text": [
      "100 121 144 169 196 225 256 289 324 361 400 "
     ]
    }
   ],
   "source": [
    "for i in range(10, 21):\n",
    "    print(i*i, end=' ')"
   ]
  },
  {
   "cell_type": "markdown",
   "metadata": {},
   "source": [
    "## while-Schleife\n",
    "Die `while-Schleife` arbeitet solange eine bestimmte Bedingung erfüllt ist."
   ]
  },
  {
   "cell_type": "code",
   "execution_count": 35,
   "metadata": {},
   "outputs": [
    {
     "name": "stdout",
     "output_type": "stream",
     "text": [
      "i ist 0\n",
      "i ist 1\n",
      "i ist 2\n",
      "i ist 3\n"
     ]
    }
   ],
   "source": [
    "i = 0\n",
    "while i < 4:\n",
    "    print (\"i ist\", i)\n",
    "    i = i + 1"
   ]
  },
  {
   "cell_type": "markdown",
   "metadata": {},
   "source": [
    "<br>Natürlich können die Schleifen auch frühzeitig unterbrochen bzw. beendet werden, wenn eine bestimmte Bedindungen erreicht wird. Hierzu wird mit einer if-Anweisung die Bedingung abfragt und mit `break` die Schleife abgebrochen, wenn diese Bedingung eintrifft."
   ]
  },
  {
   "cell_type": "code",
   "execution_count": 45,
   "metadata": {},
   "outputs": [
    {
     "name": "stdout",
     "output_type": "stream",
     "text": [
      "Hallo"
     ]
    }
   ],
   "source": [
    "for i in \"Hallo Welt!\":\n",
    "    if i == \" \":\n",
    "        break\n",
    "    print (i,end='')"
   ]
  },
  {
   "cell_type": "markdown",
   "metadata": {},
   "source": [
    "# Lists & Dictionaries\n",
    "## Listen\n",
    "`Listen` werden in eckiger Klammer geschrieben. Die Elemente innerhalb der Klammer werden von einfachen Kommas getrennt."
   ]
  },
  {
   "cell_type": "code",
   "execution_count": 26,
   "metadata": {},
   "outputs": [
    {
     "data": {
      "text/plain": [
       "['red', 'black', 'white']"
      ]
     },
     "execution_count": 26,
     "metadata": {},
     "output_type": "execute_result"
    }
   ],
   "source": [
    "liste = ['red', 'black', 'white']\n",
    "liste"
   ]
  },
  {
   "cell_type": "markdown",
   "metadata": {},
   "source": [
    "<br>Mit `append` werden in die Liste dahinter, neue Elemente hinzugefügt."
   ]
  },
  {
   "cell_type": "code",
   "execution_count": 28,
   "metadata": {},
   "outputs": [
    {
     "data": {
      "text/plain": [
       "['red', 'black', 'white', 'green', 'green']"
      ]
     },
     "execution_count": 28,
     "metadata": {},
     "output_type": "execute_result"
    }
   ],
   "source": [
    "liste.append(\"green\")\n",
    "liste"
   ]
  },
  {
   "cell_type": "markdown",
   "metadata": {},
   "source": [
    "<br />Die Elemente können innerhalb der Liste verschiedene Datentypen haben."
   ]
  },
  {
   "cell_type": "code",
   "execution_count": 8,
   "metadata": {},
   "outputs": [
    {
     "data": {
      "text/plain": [
       "[1, 2, 'birne']"
      ]
     },
     "execution_count": 8,
     "metadata": {},
     "output_type": "execute_result"
    }
   ],
   "source": [
    "mixed_list = [1, 2, 'birne']\n",
    "mixed_list"
   ]
  },
  {
   "cell_type": "code",
   "execution_count": 32,
   "metadata": {},
   "outputs": [
    {
     "data": {
      "text/plain": [
       "'melone'"
      ]
     },
     "execution_count": 32,
     "metadata": {},
     "output_type": "execute_result"
    }
   ],
   "source": [
    "mixed_list[2]"
   ]
  },
  {
   "cell_type": "markdown",
   "metadata": {},
   "source": [
    "## Dictionaries\n",
    "`Dictionary` entspricht einem einfachen \"Mapping\". Ein Dictionary ist ein assoziatives Feld. Diese besteht aud mehreren Schlüssel-Objekt-Paaren. Jedes Objekt hat einen bestimmten Schlüssel. Hier werden geschwungene Klammer verwendet und keine eckigen, wie bei List. <br>\n",
    "Im folgenden erstellen wir ein einfaches Dictionary:"
   ]
  },
  {
   "cell_type": "code",
   "execution_count": 5,
   "metadata": {},
   "outputs": [],
   "source": [
    "woerter = {\"house\":\"Haus\", \"cat\":\"Katze\", \"black\":\"schwarz\"}"
   ]
  },
  {
   "cell_type": "code",
   "execution_count": 6,
   "metadata": {},
   "outputs": [
    {
     "data": {
      "text/plain": [
       "'Haus'"
      ]
     },
     "execution_count": 6,
     "metadata": {},
     "output_type": "execute_result"
    }
   ],
   "source": [
    "woerter[\"house\"]"
   ]
  },
  {
   "cell_type": "code",
   "execution_count": 8,
   "metadata": {},
   "outputs": [
    {
     "data": {
      "text/plain": [
       "'Katze'"
      ]
     },
     "execution_count": 8,
     "metadata": {},
     "output_type": "execute_result"
    }
   ],
   "source": [
    "woerter[\"cat\"]"
   ]
  },
  {
   "cell_type": "markdown",
   "metadata": {},
   "source": [
    "# Meine erste Funktion\n",
    "`Funktionen` werden definiert, um immer wiederkehrende Codezeilen über diesen auszuführen. Die Arbet wird erleichtert und der Code ist übersichtlicher.<br>\n",
    "Unsere erste Funktion ist die Addition von zwei Zahlen:"
   ]
  },
  {
   "cell_type": "code",
   "execution_count": 29,
   "metadata": {},
   "outputs": [],
   "source": [
    "def zahl_addieren(zahl_1, zahl_2):\n",
    "    return zahl_1 + zahl_2    # Zahlen werden addiert und zurück übergeben"
   ]
  },
  {
   "cell_type": "code",
   "execution_count": 30,
   "metadata": {},
   "outputs": [
    {
     "data": {
      "text/plain": [
       "3"
      ]
     },
     "execution_count": 30,
     "metadata": {},
     "output_type": "execute_result"
    }
   ],
   "source": [
    "zahl_addieren(1, 2)     # Funktion mit den Zahlen afrufen"
   ]
  }
 ],
 "metadata": {
  "kernelspec": {
   "display_name": "Python 3",
   "language": "python",
   "name": "python3"
  },
  "language_info": {
   "codemirror_mode": {
    "name": "ipython",
    "version": 3
   },
   "file_extension": ".py",
   "mimetype": "text/x-python",
   "name": "python",
   "nbconvert_exporter": "python",
   "pygments_lexer": "ipython3",
   "version": "3.7.0"
  }
 },
 "nbformat": 4,
 "nbformat_minor": 2
}
